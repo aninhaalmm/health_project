{
  "nbformat": 4,
  "nbformat_minor": 0,
  "metadata": {
    "colab": {
      "provenance": [],
      "include_colab_link": true
    },
    "kernelspec": {
      "name": "python3",
      "display_name": "Python 3"
    },
    "language_info": {
      "name": "python"
    }
  },
  "cells": [
    {
      "cell_type": "markdown",
      "metadata": {
        "id": "view-in-github",
        "colab_type": "text"
      },
      "source": [
        "<a href=\"https://colab.research.google.com/github/aninhaalmm/health_project/blob/main/health_care_project.ipynb\" target=\"_parent\"><img src=\"https://colab.research.google.com/assets/colab-badge.svg\" alt=\"Open In Colab\"/></a>"
      ]
    },
    {
      "cell_type": "markdown",
      "source": [
        "CONFIGURAÇÃO DO CHATBOT"
      ],
      "metadata": {
        "id": "5LxJVtFhS6Xd"
      }
    },
    {
      "cell_type": "markdown",
      "source": [
        "primeiro, adicionamos a SDK do Google"
      ],
      "metadata": {
        "id": "z97P9LKXS-eP"
      }
    },
    {
      "cell_type": "code",
      "source": [
        "!pip install -q -U google-generativeai"
      ],
      "metadata": {
        "id": "OJSI2zX3TEa5"
      },
      "execution_count": null,
      "outputs": []
    },
    {
      "cell_type": "markdown",
      "source": [
        "então, adicionamos a API Key, vou colocar como mostrado na aula 4, na parte extra"
      ],
      "metadata": {
        "id": "xmwybjjWTG5-"
      }
    },
    {
      "cell_type": "code",
      "source": [
        "import numpy as np\n",
        "import pandas as pd\n",
        "import google.generativeai as genai\n",
        "from google.colab import userdata\n",
        "api_key = userdata.get(\"secret_key\")\n",
        "genai.configure(api_key=api_key)"
      ],
      "metadata": {
        "id": "TRkCI1VGTQjC"
      },
      "execution_count": null,
      "outputs": []
    },
    {
      "cell_type": "markdown",
      "source": [
        "primeiras configurações da IA"
      ],
      "metadata": {
        "id": "SiI4vSpETZ7H"
      }
    },
    {
      "cell_type": "code",
      "source": [
        "generation_config = {\n",
        "    \"candidate_count\": 1,\n",
        "    \"temperature\": 0.5,\n",
        "}"
      ],
      "metadata": {
        "id": "qoGfvCnnTeg0"
      },
      "execution_count": null,
      "outputs": []
    },
    {
      "cell_type": "markdown",
      "source": [
        "configurações de segurança"
      ],
      "metadata": {
        "id": "p6qHLweq9SBa"
      }
    },
    {
      "cell_type": "code",
      "source": [
        "safety_settings = {\n",
        "    \"HARASSMENT\": \"BLOCK_NONE\",\n",
        "    \"HATE\": \"BLOCK_NONE\",\n",
        "    \"SEXUAL\": \"BLOCK_NONE\",\n",
        "    \"DANGEROUS\": \"BLOCK_NONE\"\n",
        "}"
      ],
      "metadata": {
        "id": "bNetHpEM9SPX"
      },
      "execution_count": null,
      "outputs": []
    },
    {
      "cell_type": "markdown",
      "source": [
        "inicializando o modelo..."
      ],
      "metadata": {
        "id": "0nOo3sxtTog0"
      }
    },
    {
      "cell_type": "code",
      "source": [
        "model = genai.GenerativeModel(model_name=\"gemini-1.0-pro\",\n",
        "                              generation_config=generation_config,\n",
        "                              safety_settings=safety_settings)"
      ],
      "metadata": {
        "id": "KcFn816gTrHr"
      },
      "execution_count": null,
      "outputs": []
    },
    {
      "cell_type": "markdown",
      "source": [
        "criando um chat..."
      ],
      "metadata": {
        "id": "HsHbhb9vTtTc"
      }
    },
    {
      "cell_type": "code",
      "source": [
        "chat = model.start_chat(history=[])"
      ],
      "metadata": {
        "id": "22vsWfxQTvNG"
      },
      "execution_count": null,
      "outputs": []
    },
    {
      "cell_type": "markdown",
      "source": [
        "INTERAÇÃO CHAT-USUÁRIO SOBRE INFORMAÇÕES GERAIS DE SAÚDE - que mais para frente, seria interessnte que um médico fosse capaz de adicionar informações também, e que essas informações fossem armazenadas am algum lugar."
      ],
      "metadata": {
        "id": "stORhaHiCyjb"
      }
    },
    {
      "cell_type": "code",
      "source": [
        "idade_a = input(\"Quantos anos você tem? Responda com números. \")\n",
        "genero_a = input(\"Qual o seu sexo? Responda m para mulher, h para homem ou x para outros. \")\n",
        "idade = chat.send_message(\"Pergunta: 18, Resposta: 18; Pergunta: vinte, Resposta: 20; Pergunta: 19, Resposta: 19; Pergunta: Dezenove; Resposta: 19; Pergunta: \" + idade_a + \", Resposta: \")\n",
        "if genero_a == \"x\" :\n",
        "  genero_a = (\"Qual é o seu sexo biológico? Responda m para mulher e h para homem. \")\n",
        "while genero_a != \"m\" and genero_a != \"h\" and genero_a != \"x\" :\n",
        "  genero_a = input(\"Qual o seu sexo? Responda m para mulher, h para homem ou x para outros. \")\n",
        "diabetes = input(\"Você tem diabetes? Se sim, responda s, se não, responda n: \")\n",
        "cardiaca = input(\"Você tem doenças cardíacas? Se sim, responda s, se não, responda n: \")\n",
        "pulmonar = input(\"Você tem doenças pulmonares? Se sim, responda s, se não, responda n: \")\n",
        "demencia = input(\"Você tem demencia? Se sim, responda s, se não, responda n: \")\n",
        "parkinson = input(\"Você tem parkinson? Se sim, responda s, se não, responda n: \")\n",
        "problema_inicial_visão = input(\"Você tem algum problema de visão? Se sim, responda s, se não, responda n: \")\n",
        "hipe_arterial = input(\"Você tem hipertensão arterial? Se sim, responda s, se não, responda n: \")\n",
        "hist_fam_ocular = input(\"Sua família tem histórico de doenças oculares? Se sim, responda s, se não, responda n: \")\n",
        "while diabetes!= \"n\" and diabetes != \"s\":\n",
        "  diabetes = input(\"Sua resposta é inválida. Você tem diabetes? Se sim, responda s, se não, responda n: \")\n",
        "while cardiaca!= \"n\" and cardiaca != \"s\":\n",
        "  cardiaca = input(\"Sua resposta é inválida. Você tem doenças cardíacas? Se sim, responda s, se não, responda n: \")\n",
        "while pulmonar!= \"n\" and pulmonar != \"s\":\n",
        "  pulmonar = input(\"Sua resposta é inválida. Você tem doenças pulmonares? Se sim, responda s, se não, responda n: \")\n",
        "while demencia!= \"n\" and demencia != \"s\":\n",
        "  demencia = input(\"Sua resposta é inválida. Você tem demencia? Se sim, responda s, se não, responda n: \")\n",
        "while parkinson!= \"n\" and parkinson != \"s\":\n",
        "  parkinson = input(\"Sua resposta é inválida. Você tem parkinson? Se sim, responda s, se não, responda n: \")\n",
        "while problema_inicial_visão!= \"n\" and problema_inicial_visão != \"s\":\n",
        "  problema_inicial_visão = input(\"Sua resposta é inválida. Você tem algum problema de visão? Se sim, responda s, se não, responda n: \")\n",
        "while hipe_arterial!= \"n\" and hipe_arterial != \"s\":\n",
        "  hipe_arterial = input(\"Sua resposta é inválida. Você tem hipertensão arterial? Se sim, responda s, se não, responda n: \")\n",
        "while hist_fam_ocular!= \"n\" and hist_fam_ocular != \"s\":\n",
        "  hist_fam_ocular = input(\"Sua resposta é inválida. Sua família tem histórico de doenças oculares? Se sim, responda s, se não, responda n: \")\n",
        "\n",
        "DIABETES = {\n",
        "    \"Título\": \"Diabetes\"\n",
        "    \"Conteúdo\": diabetes\n",
        "}\n",
        "CARDIACA = {\n",
        "    \"Título\": \"Doenças cardíacas\"\n",
        "    \"Conteúdo\": cardiaca\n",
        "}\n",
        "PULMONAR = {\n",
        "    \"Título\": \"Doenças pulmonares\"\n",
        "    \"Conteúdo\": pulmonar\n",
        "}\n",
        "DEMENCIA = {\n",
        "    \"Título\": \"Demencia\"\n",
        "    \"Conteúdo\": demencia\n",
        "}\n",
        "PARKINSON = {\n",
        "    \"Título\": \"Parkinson\"\n",
        "    \"Conteúdo\": parkinson\n",
        "}\n",
        "PROBLEMA_INICIAL_VISAO = {\n",
        "    \"Título\": \"Problemas inicias de visão\"\n",
        "    \"Conteúdo\": problema_inicial_visão\n",
        "}\n",
        "HIPE_ART = {\n",
        "    \"Título\": \"Hipertensão arterial\"\n",
        "    \"Conteúdo\": hipe_arterial\n",
        "}\n",
        "HIST_FAM_OCU = {\n",
        "    \"Título\": \"Histórico familiar de problemas oculares\"\n",
        "    \"Conteúdo\": hist_fam_ocular\n",
        "}\n",
        "\n",
        "geral = [DIABETES, CARDIACA, PULMONAR, DEMENCIA, PARKINSON, PROBLEMA_INICIAL_VISAO, HIPE_ART, HIST_FAM_OCU]\n",
        "\n",
        "df = pd.DataFrame(documents)\n",
        "df.columns = [\"Titulo\", \"Conteudo\"]\n",
        "df"
      ],
      "metadata": {
        "colab": {
          "base_uri": "https://localhost:8080/"
        },
        "id": "2kMc7JfiEaug",
        "outputId": "6752e1b1-7630-403e-b587-3c81751f65d5"
      },
      "execution_count": null,
      "outputs": [
        {
          "name": "stdout",
          "output_type": "stream",
          "text": [
            "Quantos anos você tem? 18\n",
            "Qual foi a última vez que foi a um pediatra ou a um clinico geral? Dê sua resposta no formato DD/MM/AAAA: 28/04/2006\n"
          ]
        }
      ]
    },
    {
      "cell_type": "code",
      "source": [
        "if genero_a == \"h\":\n",
        "  if \"0\" =< idade =< \"3\":\n",
        "    print(\"O pediatra deve ser consultado nos seguintes meses de vida: 2, 4, 6, 9, 12, 15, 18, 24, 30, 36.\")\n",
        "    print(\"O dentista deve ser consultado semestralmente.\")\n",
        "    print(\"O oftalmologista deve ser consultado de dois em dois anos.\")\n",
        "  elif \"4\" =< idade =< \"15\":\n",
        "    if diabetes == \"n\" and cardiaca == \"n\" and pulmonar == \"n\" and demencia == \"n\" and parkinson ==\"n\" and problema_inicial_visão == \"n\" and hipe_arterial == \"n\" and hist_fam_ocular == \"n\":\n",
        "      print(\"O pediatra deve ser consultado anualmente.\")\n",
        "      print(\"O dentista deve ser consultado semestralmente.\")\n",
        "      print(\"O oftalmologista deve ser consultado de dois em dois anos.\")\n",
        "    else:\n",
        "      print(\"Você deve conversar com o pediatra, para definirem juntos a frequência adequada das consultas.\")\n",
        "      print(\"O dentista deve ser consultado semestralmente.\")\n",
        "      print(\"Você deve conversar com o oftalmologista, para definirem juntos a frequência adequada das consultas. No geral, é recomendada uma consulta por ano.\")\n",
        "  elif \"16\" =< idade =< \"39\":\n",
        "    if diabetes == \"n\" and cardiaca == \"n\" and pulmonar == \"n\" and demencia == \"n\" and parkinson ==\"n\" and problema_inicial_visão == \"n\" and hipe_arterial == \"n\" and hist_fam_ocular == \"n\":\n",
        "      print(\"O clínico geral deve ser consultado anualmente.\")\n",
        "      print(\"O dentista deve ser consultado semestralmente.\")\n",
        "      print(\"O oftalmologista deve ser consultado de dois em dois anos.\")\n",
        "    else:\n",
        "      print(\"Você deve conversar com o clínico geral, para definirem juntos a frequência adequada das consultas.\")\n",
        "      print(\"O dentista deve ser consultado semestralmente.\")\n",
        "      print(\"Você deve conversar com o oftalmologista, para definirem juntos a frequência adequada das consultas. No geral, é recomendada uma consulta por ano.\")\n",
        "  elif \"40\" =< idade =< \"49\":\n",
        "    if diabetes == \"n\" and cardiaca == \"n\" and pulmonar == \"n\" and demencia == \"n\" and parkinson ==\"n\" and problema_inicial_visão == \"n\" and hipe_arterial == \"n\" and hist_fam_ocular == \"n\":\n",
        "      print(\"O clínico geral deve ser consultado anualmente.\")\n",
        "      print(\"O dentista deve ser consultado semestralmente.\")\n",
        "      print(\"O oftalmologista deve ser consultado anualmente.\")\n",
        "    else:\n",
        "      print(\"Você deve conversar com o clínico geral, para definirem juntos a frequência adequada das consultas.\")\n",
        "      print(\"O dentista deve ser consultado semestralmente.\")\n",
        "      print(\"Você deve conversar com o oftalmologista, para definirem juntos a frequência adequada das consultas. No geral, é recomendada uma consulta por ano.\")\n",
        "  elif \"50\" =< idade =< \"59\":\n",
        "    if diabetes == \"n\" and cardiaca == \"n\" and pulmonar == \"n\" and demencia == \"n\" and parkinson ==\"n\" and problema_inicial_visão == \"n\" and hipe_arterial == \"n\" and hist_fam_ocular == \"n\":\n",
        "      print(\"O clínico geral deve ser consultado semestralmente.\")\n",
        "      print(\"O dentista deve ser consultado semestralmente.\")\n",
        "      print(\"O oftalmologista deve ser consultado anualmente.\")\n",
        "    else:\n",
        "      print(\"Você deve conversar com o clínico geral, para definirem juntos a frequência adequada das consultas.\")\n",
        "      print(\"O dentista deve ser consultado semestralmente.\")\n",
        "      print(\"Você deve conversar com o oftalmologista, para definirem juntos a frequência adequada das consultas. No geral, é recomendada uma consulta por ano.\")\n",
        "  else:\n",
        "    if diabetes == \"n\" and cardiaca == \"n\" and pulmonar == \"n\" and demencia == \"n\" and parkinson ==\"n\" and problema_inicial_visão == \"n\" and hipe_arterial == \"n\" and hist_fam_ocular == \"n\":\n",
        "      print(\"O geriatra deve ser consultado semestralmente.\")\n",
        "      print(\"O dentista deve ser consultado semestralmente.\")\n",
        "      print(\"O oftalmologista deve ser consultado anualmente.\")\n",
        "    else:\n",
        "      print(\"Você deve conversar com o geriatra, para definirem juntos a frequência adequada das consultas. No geral, o geriatra deve ser consultado trimestralmente.\")\n",
        "      print(\"O dentista deve ser consultado semestralmente.\")\n",
        "      print(\"Você deve conversar com o oftalmologista, para definirem juntos a frequência adequada das consultas. No geral, é recomendada uma consulta por ano.\")\n",
        "else:\n",
        "  if \"0\" =< idade =< \"3\":\n",
        "    print(\"O pediatra deve ser consultado nos seguintes meses de vida: 2, 4, 6, 9, 12, 15, 18, 24, 30, 36.\")\n",
        "    print(\"O dentista deve ser consultado semestralmente.\")\n",
        "    print(\"O oftalmologista deve ser consultado de dois em dois anos.\")\n",
        "  elif \"4\" =< idade =< \"14\":\n",
        "    if diabetes == \"n\" and cardiaca == \"n\" and pulmonar == \"n\" and demencia == \"n\" and parkinson ==\"n\" and problema_inicial_visão == \"n\" and hipe_arterial == \"n\" and hist_fam_ocular == \"n\":\n",
        "      print(\"O pediatra deve ser consultado anualmente.\")\n",
        "      print(\"O dentista deve ser consultado semestralmente.\")\n",
        "      print(\"O oftalmologista deve ser consultado de dois em dois anos.\")\n",
        "    else:\n",
        "      print(\"Você deve conversar com o pediatra, para definirem juntos a frequência adequada das consultas.\")\n",
        "      print(\"O dentista deve ser consultado semestralmente.\")\n",
        "      print(\"Você deve conversar com o oftalmologista, para definirem juntos a frequência adequada das consultas. No geral, é recomendada uma consulta por ano.\")\n",
        "  elif \"15\" =< idade =< \"20\":\n",
        "    if diabetes == \"n\" and cardiaca == \"n\" and pulmonar == \"n\" and demencia == \"n\" and parkinson ==\"n\" and problema_inicial_visão == \"n\" and hipe_arterial == \"n\" and hist_fam_ocular == \"n\":\n",
        "      print(\"A ginecologista deve ser consultada anualmente.\")\n",
        "      print(\"O dentista deve ser consultado semestralmente.\")\n",
        "      print(\"O oftalmologista deve ser consultado de dois em dois anos.\")\n",
        "    else:\n",
        "      print(\"Você deve conversar com a ginecologista, para definirem juntos a frequência adequada das consultas.\")\n",
        "      print(\"O dentista deve ser consultado semestralmente.\")\n",
        "      print(\"Você deve conversar com o oftalmologista, para definirem juntos a frequência adequada das consultas. No geral, é recomendada uma consulta por ano.\")\n",
        "  elif \"21\" =< idade =< \"39\":\n",
        "    if diabetes == \"n\" and cardiaca == \"n\" and pulmonar == \"n\" and demencia == \"n\" and parkinson ==\"n\" and problema_inicial_visão == \"n\" and hipe_arterial == \"n\" and hist_fam_ocular == \"n\":\n",
        "      print(\"A ginecologista deve ser consultada anualmente, e deve-se lembrar que o exame pélvico também deve ser realizado anualmente.\")\n",
        "      print(\"O dentista deve ser consultado semestralmente.\")\n",
        "      print(\"O oftalmologista deve ser consultado de dois em dois anos.\")\n",
        "    else:\n",
        "      print(\"Você deve conversar com a ginecologista, para definirem juntos a frequência adequada das consultas.\")\n",
        "      print(\"O dentista deve ser consultado semestralmente.\")\n",
        "      print(\"Você deve conversar com o oftalmologista, para definirem juntos a frequência adequada das consultas. No geral, é recomendada uma consulta por ano.\")\n",
        "  elif \"40\" =< idade =< \"60\":\n",
        "    if diabetes == \"n\" and cardiaca == \"n\" and pulmonar == \"n\" and demencia == \"n\" and parkinson ==\"n\" and problema_inicial_visão == \"n\" and hipe_arterial == \"n\" and hist_fam_ocular == \"n\":\n",
        "      print(\"A ginecologista deve ser consultada anualmente, e deve-se lembrar que o exame pélvico também deve ser realizado anualmente.\")\n",
        "      print(\"O dentista deve ser consultado semestralmente.\")\n",
        "      print(\"O oftalmologista deve ser consultado anualmente.\")\n",
        "    else:\n",
        "      print(\"Você deve conversar com a ginecologista, para definirem juntos a frequência adequada das consultas.\")\n",
        "      print(\"O dentista deve ser consultado semestralmente.\")\n",
        "      print(\"Você deve conversar com o oftalmologista, para definirem juntos a frequência adequada das consultas. No geral, é recomendada uma consulta por ano.\")\n",
        "  else:\n",
        "    if diabetes == \"n\" and cardiaca == \"n\" and pulmonar == \"n\" and demencia == \"n\" and parkinson ==\"n\" and problema_inicial_visão == \"n\" and hipe_arterial == \"n\" and hist_fam_ocular == \"n\":\n",
        "      print(\"O geriatra deve ser consultado semestralmente.\")\n",
        "      print(\"O dentista deve ser consultado semestralmente.\")\n",
        "      print(\"O oftalmologista deve ser consultado anualmente.\")\n",
        "    else:\n",
        "      print(\"Você deve conversar com o geriatra, para definirem juntos a frequência adequada das consultas. No geral, o geriatra deve ser consultado trimestralmente.\")\n",
        "      print(\"O dentista deve ser consultado semestralmente.\")\n",
        "      print(\"Você deve conversar com o oftalmologista, para definirem juntos a frequência adequada das consultas. No geral, é recomendada uma consulta por ano.\")"
      ],
      "metadata": {
        "id": "Ep5RPC5xrP-j"
      },
      "execution_count": null,
      "outputs": []
    },
    {
      "cell_type": "markdown",
      "source": [
        "INTERAÇÃO CHAT-USUÁRIO PARA INFORMAÇÕES RÁPIDAS"
      ],
      "metadata": {
        "id": "uwtlZ5xsTwuA"
      }
    },
    {
      "cell_type": "code",
      "source": [
        "categoria = input(\"Que lembrete quer adicionar hoje? Se for vacina, insira o número 1 como resposta. Se for remédio, insira o número 0 como respota.\")\n",
        "while categoria != \"1\" and categoria != \"0\":\n",
        "  categoria = input(\"O que você inseriu é uma resposta inválida, tente novamente. Que lembrete quer adicionar hoje? Se for vacina, escreva: 1. Se for remédio, escreva: 0.\")\n",
        "if categoria == \"1\":\n",
        "  nome_vacina = input(\"Insira o nome da vacina: \")\n",
        "  data_inicial_vacina = input(\"Quando você tomou pela última vez a vacina: \" + nome_vacina + \"? Responda no formato DD/MM/AAAA: \")\n",
        "  pergunta_inicial = \"De quanto em quanto tempo deve-se tomar a vacina \" + nome_vacina + \"?\"\n",
        "  resposta_inicial = chat.send_message(pergunta_inicial)\n",
        "  print(resposta_inicial.text)\n",
        "  pergunta_final = \"Sabendo disso, e também sabendo de que a última vez que essa vacina foi tomada por uma pessoa foi em \" + data_inicial_vacina + \" então quando essa pessoa deve tomar novamente essa vacina?\"\n",
        "  resposta_final = chat.send_message(pergunta_final)\n",
        "  print(resposta_final.text)\n",
        "elif categoria == \"0\":\n",
        "  nome_remedio = input(\"Insira o nome do remédio: \")\n",
        "  data_inicial_remedio = input(\"Insira o dia que você começou a tomar esse remédio, no formato DD/MM/AAAA: \")\n",
        "  p_i = \"De quanto em quanto tempo deve-se tomar o remédio de nome: \" + nome_remedio + \"?\"\n",
        "  r_i = chat.send_message(p_i)\n",
        "  p_ii = \"Quantos comprimidos vem na cartela desse remédio?\"\n",
        "  r_ii = chat.send_message(p_ii)\n",
        "  p_iii = \"Sabendo disso, em quanto tempo a cartela iniciada no dia \" + data_inicial_remedio + \" vai acabar?\"\n",
        "  r_iii = chat.send_message(p_iii)\n",
        "  p_iv = \"Informe a data que vem dois dias antes dessa data que acabou de me informar.\"\n",
        "  r_iv = chat.send_message(p_iv)\n",
        "  print(r_iv.text)"
      ],
      "metadata": {
        "colab": {
          "base_uri": "https://localhost:8080/",
          "height": 208
        },
        "id": "YYteCp3xWCvI",
        "outputId": "036fa306-6505-4d48-ccf7-0df56cea3caa"
      },
      "execution_count": null,
      "outputs": [
        {
          "output_type": "stream",
          "name": "stdout",
          "text": [
            "Que lembrete quer adicionar hoje? Se for vacina, insira o número 1 como resposta. Se for remédio, insira o número 0 como respota.0\n",
            "Insira o nome do remédio: qlair\n",
            "Insira o dia que você começou a tomar esse remédio, no formato DD/MM/AAAA: 28/05/2023\n",
            "Quantos anos você tem? 18\n",
            "Dois dias antes de **27/07/2023** (data de término da cartela de Qlair 80 mcg):\n",
            "\n",
            "**25/07/2023**\n",
            "\n",
            "Dois dias antes de **27/06/2023** (data de término da cartela de Qlair 160 mcg):\n",
            "\n",
            "**25/06/2023**\n"
          ]
        }
      ]
    }
  ]
}